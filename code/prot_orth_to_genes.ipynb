{
 "cells": [
  {
   "cell_type": "code",
   "execution_count": 42,
   "metadata": {},
   "outputs": [],
   "source": [
    "import pandas as pd\n",
    "import gffutils"
   ]
  },
  {
   "cell_type": "code",
   "execution_count": 46,
   "metadata": {},
   "outputs": [
    {
     "name": "stdout",
     "output_type": "stream",
     "text": [
      "           protein_id                               orthologs_protein_id\n",
      "0      NP_001020111.1  XP_008059794.1,XP_050613874.1,XP_017387518.1,X...\n",
      "1      NP_001165218.1  XP_021572520.1,XP_050634840.1,XP_012642912.1,X...\n",
      "2         NP_000696.1  XP_050623002.1,XP_017375239.1,XP_012621060.1,X...\n",
      "3      NP_001257903.1  XP_021570831.1,XP_050628607.1,XP_017371748.2,X...\n",
      "4      XP_047289624.1  XP_021573118.1,XP_050628723.1,XP_017386064.1,X...\n",
      "...               ...                                                ...\n",
      "20189  NP_001078943.2  XP_008055068.1,XP_050628471.1,XP_017400814.1,X...\n",
      "20190     NP_085148.1  XP_008055056.1,XP_050627929.1,XP_017400811.1,X...\n",
      "20191     NP_079112.1  XP_008055055.1,XP_050627815.1,XP_017400808.1,X...\n",
      "20192  NP_001129508.1  XP_008055054.1,XP_050627735.1,XP_017400806.1,X...\n",
      "20193     NP_733843.1  XP_008054806.1,XP_050627662.1,XP_017400802.1,X...\n",
      "\n",
      "[18942 rows x 2 columns]\n"
     ]
    }
   ],
   "source": [
    "df_prot_orth = pd.read_csv('/home/collot/stage/collot/out_ortho/prot_oto_homo_sapiens.tsv', sep='\\t', names=['protein_id','orthologs_protein_id'])\n",
    "df_prot_orth = df_prot_orth.dropna()\n",
    "pd.DataFrame.to_csv(df_prot_orth,'/home/collot/stage/collot/out_ortho/prot_oto_homo_sapiens.tsv', sep='\\t')\n",
    "print(df_prot_orth)\n"
   ]
  },
  {
   "cell_type": "code",
   "execution_count": 47,
   "metadata": {},
   "outputs": [],
   "source": [
    "db=gffutils.FeatureDB('/home/collot/stage/collot/out_stats/databases/db_GCF_000001405.40')\n"
   ]
  },
  {
   "cell_type": "code",
   "execution_count": null,
   "metadata": {},
   "outputs": [],
   "source": [
    "cds_genes={}\n",
    "for cds in db.features_of_type('CDS'): \n",
    "    for gene_id in cds.attributes[\"gene\"]:\n",
    "        if cds.id.startswith('cds-'):\n",
    "            key = cds.id[4:]\n",
    "        else: \n",
    "            key = cds.id \n",
    "        cds_genes[key] = gene_id\n",
    "prot_list = []\n",
    "for protein in df_prot_orth['protein_id']: #iterate throught all the values in protein_id column\n",
    "    for cds_id, gene_name in cds_genes.items(): #cds is the key and equal protein, gene is the value, they are lists\n",
    "        if protein==cds_id:\n",
    "            gene = \"\".join(gene_name) + \"_9606\"\n",
    "            prot_list.append(gene)\n",
    "with open(r'/home/collot/stage/collot/out_ortho/list_genes_ort.txt', 'w') as fp:\n",
    "    for item in prot_list:\n",
    "        # write each item on a new line\n",
    "        fp.write(\"%s\\n\" % item)"
   ]
  },
  {
   "cell_type": "code",
   "execution_count": 20,
   "metadata": {},
   "outputs": [],
   "source": [
    "gene_list_df = pd.read_csv('/home/collot/stage/collot/out_ortho/list_genes_ort.txt', names=['genes'])"
   ]
  },
  {
   "cell_type": "code",
   "execution_count": 40,
   "metadata": {},
   "outputs": [
    {
     "name": "stdout",
     "output_type": "stream",
     "text": [
      "               main orthologs\n",
      "0       TRIM17_9606       NaN\n",
      "1      C3orf52_9606       NaN\n",
      "2        ATP4B_9606       NaN\n",
      "3        HYDIN_9606       NaN\n",
      "4         ZFP1_9606       NaN\n",
      "...             ...       ...\n",
      "20189    LYPD8_9606       NaN\n",
      "20190  SH3BP5L_9606       NaN\n",
      "20191   ZNF672_9606       NaN\n",
      "20192   ZNF692_9606       NaN\n",
      "20193    PGBD2_9606       NaN\n",
      "\n",
      "[20194 rows x 2 columns]\n"
     ]
    }
   ],
   "source": [
    "df_genes_ortho = pd.DataFrame(columns=['main', 'orthologs'])\n",
    "for index, row in df_prot_orth.iterrows() : \n",
    "    ortho_list = []\n",
    "    df_genes_ortho.loc[index,'main'] = gene_list_df['genes'].values[index]\n",
    "#pb : how to know what specie the prot ortho is from \n",
    "#    ortho_list.append \n",
    "#    df_genes_ortho['orthologs']=ortho_list\n",
    "    if len(ortho_list)== 0:\n",
    "        df_genes_ortho.loc[index,'orthologs']= \"NaN\"\n",
    "\n",
    "    \n",
    "print(df_genes_ortho)"
   ]
  }
 ],
 "metadata": {
  "kernelspec": {
   "display_name": "Python 3",
   "language": "python",
   "name": "python3"
  },
  "language_info": {
   "codemirror_mode": {
    "name": "ipython",
    "version": 3
   },
   "file_extension": ".py",
   "mimetype": "text/x-python",
   "name": "python",
   "nbconvert_exporter": "python",
   "pygments_lexer": "ipython3",
   "version": "3.13.2"
  }
 },
 "nbformat": 4,
 "nbformat_minor": 2
}
