{
 "cells": [
  {
   "cell_type": "code",
   "execution_count": null,
   "metadata": {},
   "outputs": [],
   "source": [
    "import pandas as pd\n",
    "import os\n",
    "import ast\n",
    "from Bio import SeqIO\n",
    "import json"
   ]
  },
  {
   "cell_type": "code",
   "execution_count": null,
   "metadata": {},
   "outputs": [],
   "source": [
    "#make json dictionaries for each specie containing prot_id and gene (gene-genename)\n",
    "for specie in os.listdir('/home/collot/stage/collot/collot/out_stats/databases/'):\n",
    "    specie_dir = str(os.path.join('/home/collot/stage/collot/collot/out_stats/databases/' + specie))\n",
    "    db = str(specie[:16])  #db name is db_GCF\n",
    "    db = gffutils.FeatureDB(specie_dir)\n",
    "    cds_genes = str(specie[3:16]) #cds dict name is GCF\n",
    "    cds_genes = {}\n",
    "    for cds in db.features_of_type('CDS'): \n",
    "        for gene_name in cds.attributes[\"gene\"]:\n",
    "            if cds.id.startswith('cds-'):\n",
    "                key = cds.id[4:]\n",
    "            else: \n",
    "                key = cds.id \n",
    "            cds_genes[key] = gene_name       \n",
    "    file_path = '/home/collot/stage/collot/collot/out_ortho/dictionaries/'+ specie[3:16]+'.json'\n",
    "    with open(file_path, 'w') as fp:\n",
    "        json.dump(cds_genes, fp)\n"
   ]
  },
  {
   "cell_type": "code",
   "execution_count": null,
   "metadata": {},
   "outputs": [],
   "source": [
    "\n",
    "#group all species dictionaries into one (key to species dictionaries = genome_id) \n",
    "dictionaries = {}\n",
    "for ortho_dict in os.listdir('/home/collot/stage/collot/collot/out_ortho/dictionaries/'):\n",
    "    dict_path = '/home/collot/stage/collot/collot/out_ortho/dictionaries/' + ortho_dict\n",
    "    with open(dict_path) as prot_dict:\n",
    "        dictionaries[ortho_dict[:-5]] = json.load(prot_dict)\n"
   ]
  },
  {
   "cell_type": "code",
   "execution_count": 23,
   "metadata": {},
   "outputs": [],
   "source": [
    "\n",
    "#get orthologs dataframe with prot_id   \n",
    "df_prot_orth = pd.read_csv('/home/collot/stage/collot/collot/out_ortho/prot_oto_homo_sapiens.tsv', sep='\\t', index_col=0)\n",
    "df_prot_orth = df_prot_orth.dropna(ignore_index=True)\n",
    "\n",
    "df_species = pd.read_csv('/home/collot/stage/collot/collot/out_stats/df_species.tsv',sep='\\t')\n",
    "    "
   ]
  },
  {
   "cell_type": "code",
   "execution_count": null,
   "metadata": {},
   "outputs": [],
   "source": [
    "#df with HS gene and orthologs genes \n",
    "df_genes_ortho = pd.DataFrame(columns=['main', 'orthologs'])\n",
    "for index, row in df_prot_orth.iterrows() : \n",
    "    query_prot = df_prot_orth.loc[index,'protein_id']\n",
    "    for ortho_dict_name, prot in dictionaries.items(): \n",
    "            tax_id = str(df_species.loc[df_species['Assembly Accession'].str[:13]==ortho_dict_name, 'Organism Taxonomic ID'].iloc[0])\n",
    "            query_gene = prot[query_prot] + '_' + tax_id\n",
    "            df_genes_ortho.loc[index,'main'] = query_gene\n",
    "\n",
    "    ortho_list = []\n",
    "    prot_ortho_list=list(str(df_prot_orth.loc[index,'orthologs_protein_id']).split(sep=','))\n",
    "    for i in range(len(prot_ortho_list)): \n",
    "        for ortho_dict_name, prot in dictionaries.items(): \n",
    "            if prot_ortho_list[i] in prot : \n",
    "                tax_id = str(df_species.loc[df_species['Assembly Accession'].str[:13]==ortho_dict_name, 'Organism Taxonomic ID'].iloc[0])\n",
    "                gene_ortho = prot[prot_ortho_list[i]] + '_' + tax_id\n",
    "                ortho_list.append(gene_ortho)\n",
    "    df_genes_ortho.loc[index, 'orthologs']=ortho_list\n",
    "\n",
    "pd.DataFrame.to_csv(df_genes_ortho,'/home/collot/stage/collot/out_ortho/genes_orthologs_homo_sapiens.csv' )"
   ]
  },
  {
   "cell_type": "code",
   "execution_count": null,
   "metadata": {},
   "outputs": [],
   "source": [
    "#for one specie \n",
    "def write_fasta():\n",
    "    df_species = pd.read_csv('/home/collot/stage/collot/collot/out_stats/df_species.tsv',sep='\\t')\n",
    "    df_genes_ortho = pd.read_csv('/home/collot/stage/collot/collot/out_ortho/genes_orthologs_homo_sapiens.csv', index_col=0)\n",
    "\n",
    "    dictionaries_seq={}\n",
    "    for gen_dir in os.listdir('/home/collot/stage/collot/PrimateData/ncbi_dataset/data/'):\n",
    "        if gen_dir.startswith('GCF'):\n",
    "            path_to_dir = str('/home/collot/stage/collot/PrimateData/ncbi_dataset/data/'+ gen_dir + '/')\n",
    "            path_list=[]\n",
    "            for file in os.listdir(path_to_dir):\n",
    "                path_list.append(str('/home/collot/stage/collot/PrimateData/ncbi_dataset/data/' + gen_dir + '/' + file))\n",
    "            fasta_genome = path_list[0]\n",
    "            dictionaries_seq[gen_dir] = SeqIO.to_dict(\n",
    "                SeqIO.parse(fasta_genome, \"fasta\")\n",
    "            )\n",
    "\n",
    "    df_genes_ortho['orthologs'] = df_genes_ortho['orthologs'].apply(ast.literal_eval) #only in a script (no notebook)\n",
    "    genome_dict = {}\n",
    "    for index, row in df_genes_ortho.iterrows():\n",
    "        ortho_fasta = []\n",
    "        all_genes = [row['main']] + row['orthologs']\n",
    "        fasta_path = f\"/home/collot/stage/collot/collot/out_ortho/fasta_homo_sapiens/{row['main']}.fasta\"\n",
    "        for ortho in all_genes:\n",
    "            tax = int(ortho.split('_')[1])\n",
    "            genome = df_species.loc[df_species['Organism Taxonomic ID']==tax,'Assembly Accession'].iloc[0]\n",
    "            if genome not in genome_dict:\n",
    "                path = f\"/home/collot/stage/collot/collot/out_stats/output_dataframes/{genome}/df_exons\"\n",
    "                genome_dict[genome] = pd.read_csv(path, index_col=0)\n",
    "            df = genome_dict[genome]\n",
    "            gene_id = f\"gene-{ortho.split('_')[0]}\"\n",
    "            gene_df = df[df['gene'] == gene_id]\n",
    "            for gene_index, gene_row in gene_df.iterrows():\n",
    "                exons_list = ast.literal_eval(gene_row['exons'])\n",
    "                header = f\">{gene_row['gene'][5:]}_{str(exons_list[0])[5:]}_{tax}\"\n",
    "                chromosome = gene_row['chromosome']\n",
    "                borders = [int(gene_row['start']) - 1, int(gene_row['end'])]\n",
    "                specie_dictionary = dictionaries_seq[genome]\n",
    "                record = specie_dictionary[chromosome]\n",
    "                if gene_row['strand'] == '-':\n",
    "                    exon_seq = record.seq[borders[0]:borders[1]].reverse_complement()\n",
    "                else:\n",
    "                    exon_seq = record.seq[borders[0]:borders[1]]\n",
    "                entry = f\"{header}\\n{exon_seq}\"\n",
    "                ortho_fasta.append(entry)\n",
    "\n",
    "        with open(fasta_path, 'w') as f:\n",
    "            f.write('\\n'.join(ortho_fasta))\n",
    "\n",
    "if __name__=='__main__' : \n",
    "    write_fasta()"
   ]
  }
 ],
 "metadata": {
  "kernelspec": {
   "display_name": "Python 3",
   "language": "python",
   "name": "python3"
  },
  "language_info": {
   "codemirror_mode": {
    "name": "ipython",
    "version": 3
   },
   "file_extension": ".py",
   "mimetype": "text/x-python",
   "name": "python",
   "nbconvert_exporter": "python",
   "pygments_lexer": "ipython3",
   "version": "3.13.2"
  }
 },
 "nbformat": 4,
 "nbformat_minor": 2
}
