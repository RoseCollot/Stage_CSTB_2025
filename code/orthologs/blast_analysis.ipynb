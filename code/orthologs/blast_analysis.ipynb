{
 "cells": [
  {
   "cell_type": "code",
   "execution_count": 1,
   "id": "7f7687b1",
   "metadata": {},
   "outputs": [],
   "source": [
    "import pandas as pd"
   ]
  },
  {
   "cell_type": "code",
   "execution_count": null,
   "id": "dfb82b9b",
   "metadata": {},
   "outputs": [
    {
     "name": "stdout",
     "output_type": "stream",
     "text": [
      "                           query                        subject  identity  \\\n",
      "1        A1BG_NM_130786.4-8_9606    A1BG_XM_030819447.1-7_61853    97.059   \n",
      "2        A1BG_NM_130786.4-8_9606     A1BG_XM_001146669.7-8_9598    99.432   \n",
      "3        A1BG_NM_130786.4-8_9606     A1BG_XM_055103953.3-8_9597    99.432   \n",
      "4        A1BG_NM_130786.4-8_9606     A1BG_XM_031004187.3-8_9595    98.864   \n",
      "5        A1BG_NM_130786.4-8_9606     A1BG_XM_055239924.2-8_9590    98.295   \n",
      "...                          ...                            ...       ...   \n",
      "4788  A1BG_XM_001146669.7-1_9598        A1BG_NM_130786.4-1_9606   100.000   \n",
      "4789  A1BG_XM_001146669.7-1_9598     A1BG_XM_054464970.2-1_9600    95.556   \n",
      "4790  A1BG_XM_001146669.7-1_9598     A1BG_XM_055239924.2-1_9590    95.556   \n",
      "4791  A1BG_XM_001146669.7-1_9598  A1BG_XM_017509623.2-1_2715852    90.099   \n",
      "4792  A1BG_XM_001146669.7-1_9598     A1BG_XM_031004187.3-1_9595    98.214   \n",
      "\n",
      "      alignment_length  mismatches  gap_opens  q_start  q_end  s_start  s_end  \\\n",
      "1                 1190          29          4        1   1186        1   1188   \n",
      "2                  176           1          0        1    176        1    176   \n",
      "3                  176           1          0        1    176        1    176   \n",
      "4                  176           2          0        1    176        1    176   \n",
      "5                  176           3          0        1    176        1    176   \n",
      "...                ...         ...        ...      ...    ...      ...    ...   \n",
      "4788                89           0          0       30    118        1     89   \n",
      "4789                90           4          0       29    118        1     90   \n",
      "4790                90           4          0       29    118        1     90   \n",
      "4791               101          10          0       18    118        1    101   \n",
      "4792                56           1          0       63    118        1     56   \n",
      "\n",
      "            evalue  bit_score  \n",
      "1     0.000000e+00     1999.0  \n",
      "2     3.400000e-89      320.0  \n",
      "3     3.400000e-89      320.0  \n",
      "4     1.580000e-87      315.0  \n",
      "5     7.360000e-86      309.0  \n",
      "...            ...        ...  \n",
      "4788  9.610000e-44      165.0  \n",
      "4789  1.250000e-37      145.0  \n",
      "4790  1.250000e-37      145.0  \n",
      "4791  9.750000e-34      132.0  \n",
      "4792  9.890000e-24       99.0  \n",
      "\n",
      "[4536 rows x 12 columns]\n"
     ]
    }
   ],
   "source": [
    "blast = pd.read_csv('/home/collot/stage/collot/collot/out_ortho/hs_blast/out/A1BG_9606.out', sep='\\t', header=None)\n",
    "blast.columns = [\"query\", \"subject\", \"identity\", \"alignment_length\", \"mismatches\", \"gap_opens\",\"q_start\", \"q_end\", \"s_start\", \"s_end\", \"evalue\", \"bit_score\"]\n",
    "mask = blast['query'] == blast['subject']\n",
    "blast = blast[~mask] \n",
    "print(blast)"
   ]
  },
  {
   "cell_type": "code",
   "execution_count": null,
   "id": "e670625a",
   "metadata": {},
   "outputs": [
    {
     "name": "stdout",
     "output_type": "stream",
     "text": [
      "                           query                      subject  identity  \\\n",
      "1        A1BG_NM_130786.4-8_9606  A1BG_XM_030819447.1-7_61853    97.059   \n",
      "17       A1BG_NM_130786.4-7_9606   A1BG_XM_001146669.7-7_9598    99.306   \n",
      "46       A1BG_NM_130786.4-6_9606  A1BG_XM_030819447.1-5_61853    97.872   \n",
      "79       A1BG_NM_130786.4-5_9606   A1BG_XM_055103953.3-5_9597    98.316   \n",
      "106      A1BG_NM_130786.4-4_9606   A1BG_XM_001146669.7-4_9598    98.168   \n",
      "...                          ...                          ...       ...   \n",
      "4699  A1BG_XM_001146669.7-5_9598   A1BG_XM_055103953.3-5_9597    99.663   \n",
      "4727  A1BG_XM_001146669.7-4_9598   A1BG_XM_031004187.3-4_9595    98.535   \n",
      "4754  A1BG_XM_001146669.7-3_9598   A1BG_XM_055103953.3-3_9597    99.259   \n",
      "4783  A1BG_XM_001146669.7-2_9598   A1BG_XM_055103953.3-2_9597   100.000   \n",
      "4788  A1BG_XM_001146669.7-1_9598      A1BG_NM_130786.4-1_9606   100.000   \n",
      "\n",
      "      alignment_length  mismatches  gap_opens  q_start  q_end  s_start  s_end  \\\n",
      "1                 1190          29          4        1   1186        1   1188   \n",
      "17                 288           2          0        1    288        1    288   \n",
      "46                 282           6          0        1    282        1    282   \n",
      "79                 297           5          0        1    297        1    297   \n",
      "106                273           5          0        1    273        1    273   \n",
      "...                ...         ...        ...      ...    ...      ...    ...   \n",
      "4699               297           1          0        1    297        1    297   \n",
      "4727               273           4          0        1    273        1    273   \n",
      "4754               270           2          0        1    270        1    270   \n",
      "4783                36           0          0        1     36        1     36   \n",
      "4788                89           0          0       30    118        1     89   \n",
      "\n",
      "             evalue  bit_score  \n",
      "1      0.000000e+00     1999.0  \n",
      "17    1.300000e-150      521.0  \n",
      "46    1.290000e-140      488.0  \n",
      "79    1.350000e-150      521.0  \n",
      "106   2.700000e-137      477.0  \n",
      "...             ...        ...  \n",
      "4699  2.870000e-157      544.0  \n",
      "4727  5.810000e-139      483.0  \n",
      "4754  1.230000e-140      488.0  \n",
      "4783   6.280000e-15       67.6  \n",
      "4788   9.610000e-44      165.0  \n",
      "\n",
      "[245 rows x 12 columns]\n"
     ]
    }
   ],
   "source": [
    "#get recirpocal best hits\n",
    "best_hit=[]\n",
    "for gene in blast['query'].unique() :\n",
    "    df_gene = blast[blast['query']==gene]\n",
    "    best_hit.append(df_gene.iloc[0])\n",
    "best_df = pd.DataFrame(best_hit)\n",
    "\n",
    "\n",
    "print(best_df)\n",
    "reci=[]\n",
    "for index, row in best_df.iterrows():\n",
    "    que = row['query']\n",
    "    sub = row['subject']\n",
    "    if que in best_df['subject'].values:\n",
    "        match = best_df[best_df['subject']==que]\n",
    "        if sub in match['query'].values:\n",
    "            reci.append(row)\n",
    "reci_best_hit = pd.DataFrame(reci)\n",
    "print(reci_best_hit)"
   ]
  }
 ],
 "metadata": {
  "kernelspec": {
   "display_name": "Python 3",
   "language": "python",
   "name": "python3"
  },
  "language_info": {
   "codemirror_mode": {
    "name": "ipython",
    "version": 3
   },
   "file_extension": ".py",
   "mimetype": "text/x-python",
   "name": "python",
   "nbconvert_exporter": "python",
   "pygments_lexer": "ipython3",
   "version": "3.13.2"
  }
 },
 "nbformat": 4,
 "nbformat_minor": 5
}
