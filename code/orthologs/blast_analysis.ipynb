{
 "cells": [
  {
   "cell_type": "code",
   "execution_count": 1,
   "id": "7f7687b1",
   "metadata": {},
   "outputs": [],
   "source": [
    "import pandas as pd"
   ]
  },
  {
   "cell_type": "code",
   "execution_count": null,
   "id": "dfb82b9b",
   "metadata": {},
   "outputs": [
    {
     "name": "stdout",
     "output_type": "stream",
     "text": [
      "                           query                        subject  identity  \\\n",
      "1        A1BG_NM_130786.4-8_9606    A1BG_XM_030819447.1-7_61853    97.059   \n",
      "2        A1BG_NM_130786.4-8_9606     A1BG_XM_001146669.7-8_9598    99.432   \n",
      "3        A1BG_NM_130786.4-8_9606     A1BG_XM_055103953.3-8_9597    99.432   \n",
      "4        A1BG_NM_130786.4-8_9606     A1BG_XM_031004187.3-8_9595    98.864   \n",
      "5        A1BG_NM_130786.4-8_9606     A1BG_XM_055239924.2-8_9590    98.295   \n",
      "...                          ...                            ...       ...   \n",
      "4788  A1BG_XM_001146669.7-1_9598        A1BG_NM_130786.4-1_9606   100.000   \n",
      "4789  A1BG_XM_001146669.7-1_9598     A1BG_XM_054464970.2-1_9600    95.556   \n",
      "4790  A1BG_XM_001146669.7-1_9598     A1BG_XM_055239924.2-1_9590    95.556   \n",
      "4791  A1BG_XM_001146669.7-1_9598  A1BG_XM_017509623.2-1_2715852    90.099   \n",
      "4792  A1BG_XM_001146669.7-1_9598     A1BG_XM_031004187.3-1_9595    98.214   \n",
      "\n",
      "      alignment_length  mismatches  gap_opens  q_start  q_end  s_start  s_end  \\\n",
      "1                 1190          29          4        1   1186        1   1188   \n",
      "2                  176           1          0        1    176        1    176   \n",
      "3                  176           1          0        1    176        1    176   \n",
      "4                  176           2          0        1    176        1    176   \n",
      "5                  176           3          0        1    176        1    176   \n",
      "...                ...         ...        ...      ...    ...      ...    ...   \n",
      "4788                89           0          0       30    118        1     89   \n",
      "4789                90           4          0       29    118        1     90   \n",
      "4790                90           4          0       29    118        1     90   \n",
      "4791               101          10          0       18    118        1    101   \n",
      "4792                56           1          0       63    118        1     56   \n",
      "\n",
      "            evalue  bit_score  \n",
      "1     0.000000e+00     1999.0  \n",
      "2     3.400000e-89      320.0  \n",
      "3     3.400000e-89      320.0  \n",
      "4     1.580000e-87      315.0  \n",
      "5     7.360000e-86      309.0  \n",
      "...            ...        ...  \n",
      "4788  9.610000e-44      165.0  \n",
      "4789  1.250000e-37      145.0  \n",
      "4790  1.250000e-37      145.0  \n",
      "4791  9.750000e-34      132.0  \n",
      "4792  9.890000e-24       99.0  \n",
      "\n",
      "[4536 rows x 12 columns]\n"
     ]
    }
   ],
   "source": [
    "blast = pd.read_csv('/home/collot/stage/collot/collot/out_ortho/hs_blast/out/A1BG_9606.out', sep='\\t', header=None)\n",
    "blast.columns = [\"query\", \"subject\", \"identity\", \"alignment_length\", \"mismatches\", \"gap_opens\",\"q_start\", \"q_end\", \"s_start\", \"s_end\", \"evalue\", \"bit_score\"]\n",
    "mask = blast['query'] == blast['subject']\n",
    "blast = blast[~mask] \n",
    "print(blast)"
   ]
  },
  {
   "cell_type": "code",
   "execution_count": null,
   "id": "e670625a",
   "metadata": {},
   "outputs": [],
   "source": []
  }
 ],
 "metadata": {
  "kernelspec": {
   "display_name": "Python 3",
   "language": "python",
   "name": "python3"
  },
  "language_info": {
   "codemirror_mode": {
    "name": "ipython",
    "version": 3
   },
   "file_extension": ".py",
   "mimetype": "text/x-python",
   "name": "python",
   "nbconvert_exporter": "python",
   "pygments_lexer": "ipython3",
   "version": "3.13.2"
  }
 },
 "nbformat": 4,
 "nbformat_minor": 5
}
